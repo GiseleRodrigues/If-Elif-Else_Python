{
  "nbformat": 4,
  "nbformat_minor": 0,
  "metadata": {
    "colab": {
      "name": "If-Elif-Else.ipynb",
      "provenance": [],
      "authorship_tag": "ABX9TyPy35mpV83u9ISdjSEnFuHV",
      "include_colab_link": true
    },
    "kernelspec": {
      "name": "python3",
      "display_name": "Python 3"
    },
    "language_info": {
      "name": "python"
    }
  },
  "cells": [
    {
      "cell_type": "markdown",
      "metadata": {
        "id": "view-in-github",
        "colab_type": "text"
      },
      "source": [
        "<a href=\"https://colab.research.google.com/github/GiseleRodrigues/If-Elif-Else_Python/blob/main/If_Elif_Else.ipynb\" target=\"_parent\"><img src=\"https://colab.research.google.com/assets/colab-badge.svg\" alt=\"Open In Colab\"/></a>"
      ]
    },
    {
      "cell_type": "markdown",
      "source": [
        "# <font color='blue'>Gisele Rodrigues | @Gisrodri</font>"
      ],
      "metadata": {
        "id": "tbNGox2njdWv"
      }
    },
    {
      "cell_type": "markdown",
      "source": [
        "### Condicional If"
      ],
      "metadata": {
        "id": "EwS9b3LanRxK"
      }
    },
    {
      "cell_type": "code",
      "source": [
        "# Condicional If\n",
        "idade = 18\n",
        "if idade<20:\n",
        "    print(\"Você é jovem\")"
      ],
      "metadata": {
        "colab": {
          "base_uri": "https://localhost:8080/"
        },
        "id": "j-QKW8IPjnCd",
        "outputId": "335fdb96-374b-48a5-9152-5d6eb3b2744f"
      },
      "execution_count": 4,
      "outputs": [
        {
          "output_type": "stream",
          "name": "stdout",
          "text": [
            "Você é jovem\n"
          ]
        }
      ]
    },
    {
      "cell_type": "code",
      "source": [
        "# Statement If...Else\n",
        "idade = 18\n",
        "if idade>=18:\n",
        "    print(\"Maior de idade\")"
      ],
      "metadata": {
        "colab": {
          "base_uri": "https://localhost:8080/"
        },
        "id": "5H3HeloejyJj",
        "outputId": "9c115044-3567-4852-d59e-5da1966b1a75"
      },
      "execution_count": 5,
      "outputs": [
        {
          "output_type": "stream",
          "name": "stdout",
          "text": [
            "Maior de idade\n"
          ]
        }
      ]
    },
    {
      "cell_type": "code",
      "source": [
        "6 > 3"
      ],
      "metadata": {
        "colab": {
          "base_uri": "https://localhost:8080/"
        },
        "id": "n9ILwbnKj2At",
        "outputId": "ceaef291-c2d9-4a0c-abda-d1f188efb22b"
      },
      "execution_count": 6,
      "outputs": [
        {
          "output_type": "execute_result",
          "data": {
            "text/plain": [
              "True"
            ]
          },
          "metadata": {},
          "execution_count": 6
        }
      ]
    },
    {
      "cell_type": "code",
      "source": [
        "3 > 7"
      ],
      "metadata": {
        "colab": {
          "base_uri": "https://localhost:8080/"
        },
        "id": "EgBUziffj7ol",
        "outputId": "5ba6ea8f-a9a4-4fc4-880d-0a711795d607"
      },
      "execution_count": 7,
      "outputs": [
        {
          "output_type": "execute_result",
          "data": {
            "text/plain": [
              "False"
            ]
          },
          "metadata": {},
          "execution_count": 7
        }
      ]
    },
    {
      "cell_type": "code",
      "source": [
        "4 <8"
      ],
      "metadata": {
        "colab": {
          "base_uri": "https://localhost:8080/"
        },
        "id": "_j4T4lT0j_va",
        "outputId": "e42ab5e5-6eb5-47ba-caf1-12094b8aa7de"
      },
      "execution_count": 8,
      "outputs": [
        {
          "output_type": "execute_result",
          "data": {
            "text/plain": [
              "True"
            ]
          },
          "metadata": {},
          "execution_count": 8
        }
      ]
    },
    {
      "cell_type": "code",
      "source": [
        "if 5 == 5:\n",
        "    print(\"Testando Python!\")"
      ],
      "metadata": {
        "colab": {
          "base_uri": "https://localhost:8080/"
        },
        "id": "ALhzs4GukEfq",
        "outputId": "d1a76025-3c8f-44af-964e-cbabba0a3cde"
      },
      "execution_count": 9,
      "outputs": [
        {
          "output_type": "stream",
          "name": "stdout",
          "text": [
            "Testando Python!\n"
          ]
        }
      ]
    },
    {
      "cell_type": "code",
      "source": [
        "if True:\n",
        "    print('Parece que Python funciona!')"
      ],
      "metadata": {
        "colab": {
          "base_uri": "https://localhost:8080/"
        },
        "id": "q9owvL6EkOTE",
        "outputId": "e323e3b6-5c01-4be6-d1ce-9bfaa0411e46"
      },
      "execution_count": 10,
      "outputs": [
        {
          "output_type": "stream",
          "name": "stdout",
          "text": [
            "Parece que Python funciona!\n"
          ]
        }
      ]
    },
    {
      "cell_type": "code",
      "source": [
        "# Atenção com a sintaxe\n",
        "if 4 > 3\n",
        "    print(\"Tudo funciona!\")"
      ],
      "metadata": {
        "colab": {
          "base_uri": "https://localhost:8080/",
          "height": 133
        },
        "id": "MVtiEDnqkT-Z",
        "outputId": "fa2475b5-665a-43d4-feaf-aa109c752f00"
      },
      "execution_count": 11,
      "outputs": [
        {
          "output_type": "error",
          "ename": "SyntaxError",
          "evalue": "ignored",
          "traceback": [
            "\u001b[0;36m  File \u001b[0;32m\"<ipython-input-11-8ee0e161c41f>\"\u001b[0;36m, line \u001b[0;32m2\u001b[0m\n\u001b[0;31m    if 4 > 3\u001b[0m\n\u001b[0m            ^\u001b[0m\n\u001b[0;31mSyntaxError\u001b[0m\u001b[0;31m:\u001b[0m invalid syntax\n"
          ]
        }
      ]
    },
    {
      "cell_type": "code",
      "source": [
        "# Atenção com a sintaxe\n",
        "if 4 > 3:\n",
        "    print(\"Tudo funciona!\")"
      ],
      "metadata": {
        "colab": {
          "base_uri": "https://localhost:8080/"
        },
        "id": "ZtOaRjHBkd43",
        "outputId": "21c19a83-66fc-469f-925b-28f7807a4a67"
      },
      "execution_count": 12,
      "outputs": [
        {
          "output_type": "stream",
          "name": "stdout",
          "text": [
            "Tudo funciona!\n"
          ]
        }
      ]
    },
    {
      "cell_type": "markdown",
      "source": [
        "**### Condicionais Aninhados**"
      ],
      "metadata": {
        "id": "wgEXMDLkkl_2"
      }
    },
    {
      "cell_type": "code",
      "source": [
        "idade = 18\n",
        "if idade > 17:\n",
        "    print(\"Você pode dirigir!\")"
      ],
      "metadata": {
        "colab": {
          "base_uri": "https://localhost:8080/"
        },
        "id": "pcVBKeXsknJO",
        "outputId": "e3aa637d-adfe-496a-b9fa-80fa89be77f0"
      },
      "execution_count": 13,
      "outputs": [
        {
          "output_type": "stream",
          "name": "stdout",
          "text": [
            "Você pode dirigir!\n"
          ]
        }
      ]
    },
    {
      "cell_type": "code",
      "source": [
        "Nome = \"Bob\"\n",
        "if idade > 13:\n",
        "    if Nome == \"Gisrodri\":\n",
        "        print(\"Ok Gisrodri, você está autorizado a entrar!\")\n",
        "    else:\n",
        "        print(\"Desculpe, mas você não pode entrar!\")"
      ],
      "metadata": {
        "colab": {
          "base_uri": "https://localhost:8080/"
        },
        "id": "dWjqtx0EktES",
        "outputId": "d9c33591-36f6-48d3-f097-acba8e6656b2"
      },
      "execution_count": 14,
      "outputs": [
        {
          "output_type": "stream",
          "name": "stdout",
          "text": [
            "Desculpe, mas você não pode entrar!\n"
          ]
        }
      ]
    },
    {
      "cell_type": "code",
      "source": [
        "idade = 13\n",
        "Nome = \"Gisrodri\"\n",
        "if idade >= 13 and Nome == \"Gisrodri\":\n",
        "    print(\"Ok Gisrodri, você está autorizado a entrar!\")"
      ],
      "metadata": {
        "colab": {
          "base_uri": "https://localhost:8080/"
        },
        "id": "A5DBARnik36M",
        "outputId": "010cc213-a601-4e9e-cf49-248312444713"
      },
      "execution_count": 15,
      "outputs": [
        {
          "output_type": "stream",
          "name": "stdout",
          "text": [
            "Ok Gisrodri, você está autorizado a entrar!\n"
          ]
        }
      ]
    },
    {
      "cell_type": "code",
      "source": [
        "idade = 12\n",
        "Nome = \"Gisrodri\"\n",
        "if (idade >= 13) or (Nome == \"Gisrodri\"):\n",
        "    print(\"Ok Gisrodri, você está autorizado a entrar!\")"
      ],
      "metadata": {
        "colab": {
          "base_uri": "https://localhost:8080/"
        },
        "id": "YNjSWUs0lDId",
        "outputId": "3b974648-f12b-40c1-d54a-ac98aef2718c"
      },
      "execution_count": 16,
      "outputs": [
        {
          "output_type": "stream",
          "name": "stdout",
          "text": [
            "Ok Gisrodri, você está autorizado a entrar!\n"
          ]
        }
      ]
    },
    {
      "cell_type": "markdown",
      "source": [
        "### Elif"
      ],
      "metadata": {
        "id": "q9QNtCprlUgY"
      }
    },
    {
      "cell_type": "code",
      "source": [
        "dia = \"Terça\"\n",
        "if dia == \"Segunda\":\n",
        "    print(\"Hoje fará sol!\")\n",
        "else:\n",
        "    print(\"Hoje vai chover!\")"
      ],
      "metadata": {
        "colab": {
          "base_uri": "https://localhost:8080/"
        },
        "id": "yKW74a0jlWUv",
        "outputId": "dfe4c934-62e7-4f42-a9b4-703e3c1cbe0e"
      },
      "execution_count": 17,
      "outputs": [
        {
          "output_type": "stream",
          "name": "stdout",
          "text": [
            "Hoje vai chover!\n"
          ]
        }
      ]
    },
    {
      "cell_type": "code",
      "source": [
        "if dia == \"Segunda\":\n",
        "    print(\"Hoje fará sol!\")\n",
        "elif dia == \"Terça\":\n",
        "    print(\"Hoje vai chover!\")\n",
        "else:\n",
        "    print(\"Sem previsão do tempo para o dia selecionado\")"
      ],
      "metadata": {
        "colab": {
          "base_uri": "https://localhost:8080/"
        },
        "id": "EWxve5MMliqY",
        "outputId": "3c12ce00-b5b9-4165-f727-9191c1df6a98"
      },
      "execution_count": 18,
      "outputs": [
        {
          "output_type": "stream",
          "name": "stdout",
          "text": [
            "Hoje vai chover!\n"
          ]
        }
      ]
    },
    {
      "cell_type": "markdown",
      "source": [
        "### Operadores Lógicos"
      ],
      "metadata": {
        "id": "ntpLK--6lqrd"
      }
    },
    {
      "cell_type": "code",
      "source": [
        "idade = 18\n",
        "nome = \"Gisrodri\"\n",
        "if idade > 17:\n",
        "    print(\"Você pode dirigir!\")"
      ],
      "metadata": {
        "colab": {
          "base_uri": "https://localhost:8080/"
        },
        "id": "VEKyFO8hlszw",
        "outputId": "a6f9afd7-4680-4665-ccb2-a74e8a6bf872"
      },
      "execution_count": 20,
      "outputs": [
        {
          "output_type": "stream",
          "name": "stdout",
          "text": [
            "Você pode dirigir!\n"
          ]
        }
      ]
    },
    {
      "cell_type": "code",
      "source": [
        "idade = 18\n",
        "if idade > 17 and nome == \"Gisrodri\":\n",
        "    print(\"Autorizado!\")"
      ],
      "metadata": {
        "colab": {
          "base_uri": "https://localhost:8080/"
        },
        "id": "6hxQXBNYmAWm",
        "outputId": "6e5c649c-78a9-40d3-9d4b-2c412d386f3e"
      },
      "execution_count": 21,
      "outputs": [
        {
          "output_type": "stream",
          "name": "stdout",
          "text": [
            "Autorizado!\n"
          ]
        }
      ]
    },
    {
      "cell_type": "code",
      "source": [
        "# Usando mais de uma condição na cláusula if \n",
        "\n",
        "disciplina = input('Digite o nome da disciplina: ')\n",
        "nota_final = input('Digite a nota final (entre 0 e 100): ')\n",
        "\n",
        "if disciplina == 'Python' and nota_final >= '70':\n",
        "    print('Você foi aprovado!')\n",
        "else:\n",
        "    print('Lamento, acho que você precisa estudar mais!')"
      ],
      "metadata": {
        "colab": {
          "base_uri": "https://localhost:8080/"
        },
        "id": "6I3MAzJTmDWW",
        "outputId": "57c7f68a-e1ab-445d-8568-0aeba97244a8"
      },
      "execution_count": 22,
      "outputs": [
        {
          "output_type": "stream",
          "name": "stdout",
          "text": [
            "Digite o nome da disciplina: Python\n",
            "Digite a nota final (entre 0 e 100): 70\n",
            "Você foi aprovado!\n"
          ]
        }
      ]
    },
    {
      "cell_type": "code",
      "source": [
        "# Usando mais de uma condição na cláusula if e introduzindo Placeholders\n",
        "\n",
        "disciplina = input('Digite o nome da disciplina: ')\n",
        "nota_final = input('Digite a nota final (entre 0 e 100): ')\n",
        "semestre = input('Digite o semestre (1 a 4): ')\n",
        "\n",
        "if disciplina == 'Geografia' and nota_final >= '50' and int(semestre) != 1:\n",
        "    print('Você foi aprovado em %s com média final %r!' %(disciplina, nota_final))\n",
        "else:\n",
        "    print('Lamento, acho que você precisa estudar mais!')"
      ],
      "metadata": {
        "colab": {
          "base_uri": "https://localhost:8080/"
        },
        "id": "9jhiEAzimjWB",
        "outputId": "f9cf42e7-09d5-4a37-ada9-c6aca98935d8"
      },
      "execution_count": 24,
      "outputs": [
        {
          "output_type": "stream",
          "name": "stdout",
          "text": [
            "Digite o nome da disciplina: Geografia\n",
            "Digite a nota final (entre 0 e 100): 90\n",
            "Digite o semestre (1 a 4): 3\n",
            "Você foi aprovado em Geografia com média final '90'!\n"
          ]
        }
      ]
    },
    {
      "cell_type": "markdown",
      "source": [
        "# Fim"
      ],
      "metadata": {
        "id": "KL6FXtbrmw4s"
      }
    }
  ]
}